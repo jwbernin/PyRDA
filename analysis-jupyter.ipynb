{
 "cells": [
  {
   "cell_type": "code",
   "execution_count": null,
   "metadata": {
    "hideCode": false
   },
   "outputs": [],
   "source": [
    "%matplotlib inline\n",
    "import matplotlib.pyplot as plt\n",
    "from dataImporter import *\n",
    "from datamodel import TrackSession\n",
    "import folium\n",
    "import math\n",
    "\n"
   ]
  },
  {
   "cell_type": "code",
   "execution_count": null,
   "metadata": {
    "hideCode": false
   },
   "outputs": [],
   "source": [
    "sourceFile = input(\"Data file: \")\n",
    "dataReader = getFileImporter(sourceFile)\n",
    "session = dataReader.readSessionData()\n",
    "session.addSessionInfo(sourcefile = sourceFile)\n",
    "session.trimEnds()"
   ]
  },
  {
   "cell_type": "code",
   "execution_count": null,
   "metadata": {
    "hideCode": false
   },
   "outputs": [],
   "source": [
    "print(\"Lap times\")\n",
    "print(\"---------\")\n",
    "for count,lap in enumerate(session.getLapTimes()):\n",
    "    print(f\"Lap { count }: {math.trunc(lap/60):02}:{lap%60:0>6.3f}\")\n"
   ]
  },
  {
   "cell_type": "code",
   "execution_count": null,
   "metadata": {
    "hideCode": false
   },
   "outputs": [],
   "source": [
    "print('These datapoints are available:')\n",
    "for point in session.getDataPointsAvail():\n",
    "    print (f\"- {point}\")"
   ]
  },
  {
   "cell_type": "code",
   "execution_count": null,
   "metadata": {
    "hideCode": false,
    "hideOutput": false,
    "tags": [
     "hide-input"
    ]
   },
   "outputs": [],
   "source": [
    "\n",
    "# Generate full session trace and plot on map\n",
    "boundingBox = session.getImageBoundaries()\n",
    "location = session.getMapLocation()\n",
    "mapPoints = []\n",
    "m = folium.Map(location=session.getMapLocation(), zoom_start=15, tiles=\"https://server.arcgisonline.com/ArcGIS/rest/services/World_Imagery/MapServer/tile/{z}/{y}/{x}\", attr=\"Tiles &copy; Esri &mdash; Source: Esri, i-cubed, USDA, USGS, AEX, GeoEye, Getmapping, Aerogrid, IGN, IGP, UPR-EGP, and the GIS User Community\")\n",
    "m.fit_bounds(boundingBox)\n",
    "for lap in session.getLaps():\n",
    "    mapPoints = []\n",
    "    for measurement in lap:\n",
    "        mapPoints.append([measurement[\"GPSlat\"], measurement[\"GPSlng\"]])\n",
    "    folium.PolyLine(mapPoints).add_to(m)\n",
    "m\n"
   ]
  },
  {
   "cell_type": "code",
   "execution_count": null,
   "metadata": {
    "hideCode": false,
    "hideOutput": false,
    "remove-input": true
   },
   "outputs": [],
   "source": [
    "# Generate individual segment traces, plot on different maps.\n",
    "maps = []\n",
    "for segment in range(1, len(session.waypoints)+1):\n",
    "    segmentNum = segment\n",
    "    traces = sorted(session.getSegmentsByTime(segmentNum), key=lambda x: x['time'])\n",
    "\n",
    "    # if this is the last segment and the fastest lap is the last lap, discard it because that's the in-segment\n",
    "    # and we want to see the actual fasted during-segment. The in-segment is likely to be the fastest simply because\n",
    "    # it's so much shorter, even if we are slower\n",
    "    if segmentNum == len(session.waypoints)+1 and session.numLaps == traces[0][\"lap\"]:\n",
    "        del traces[0]\n",
    "\n",
    "    m = folium.Map(location=session.getSeriesCenterpoint(traces[0][\"path\"]), zoom_start=15, tiles=\"https://server.arcgisonline.com/ArcGIS/rest/services/World_Imagery/MapServer/tile/{z}/{y}/{x}\", attr=\"Tiles &copy; Esri &mdash; Source: Esri, i-cubed, USDA, USGS, AEX, GeoEye, Getmapping, Aerogrid, IGN, IGP, UPR-EGP, and the GIS User Community\")\n",
    "\n",
    "    for trace in traces:\n",
    "        mapPoints = []\n",
    "        for pt in trace[\"path\"]:\n",
    "            mapPoints.append([pt[\"GPSlat\"], pt[\"GPSlng\"]])\n",
    "        folium.PolyLine(mapPoints, smooth_factor=0.0).add_to(m)\n",
    "\n",
    "    mapPoints = []\n",
    "    for pt in traces[0][\"path\"]:\n",
    "        mapPoints.append([pt[\"GPSlat\"], pt[\"GPSlng\"]])\n",
    "    folium.PolyLine(mapPoints, color=\"red\", smooth_factor=0.0).add_to(m)\n",
    "\n",
    "    maps.append(m)\n",
    "\n",
    "for map in maps:\n",
    "    display(map)"
   ]
  },
  {
   "cell_type": "code",
   "execution_count": null,
   "metadata": {},
   "outputs": [],
   "source": []
  }
 ],
 "metadata": {
  "celltoolbar": "Edit Metadata",
  "kernelspec": {
   "display_name": "Python 3 (ipykernel)",
   "language": "python",
   "name": "python3"
  },
  "language_info": {
   "codemirror_mode": {
    "name": "ipython",
    "version": 3
   },
   "file_extension": ".py",
   "mimetype": "text/x-python",
   "name": "python",
   "nbconvert_exporter": "python",
   "pygments_lexer": "ipython3",
   "version": "3.11.3"
  }
 },
 "nbformat": 4,
 "nbformat_minor": 2
}
